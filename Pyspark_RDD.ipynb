{
 "cells": [
  {
   "cell_type": "markdown",
   "metadata": {
    "id": "ETaCeH1KAcoL"
   },
   "source": [
    "# Spark Practice\n",
    "\n",
    "In this context, we are going to be working with a dataset composed of three individual dataframes. These three dataframes contain sales transaction data, the products and the information of the clients that participated in said transactions.\n",
    "\n",
    "## Environment installation\n",
    "\n",
    "In order to use PySpark, the environment needs to built accordingly."
   ]
  },
  {
   "cell_type": "code",
   "execution_count": null,
   "metadata": {
    "colab": {
     "base_uri": "https://localhost:8080/"
    },
    "id": "wVDRe7qvcSBm",
    "outputId": "8368dc21-5e76-495c-cfb8-c63952a5c597"
   },
   "outputs": [
    {
     "name": "stdout",
     "output_type": "stream",
     "text": [
      "Mounted at /content/drive\n"
     ]
    }
   ],
   "source": [
    "# Mounting personal Google Drive (where the files are located)\n",
    "from google.colab import drive\n",
    "drive.mount('/content/drive')"
   ]
  },
  {
   "cell_type": "markdown",
   "metadata": {
    "id": "gkGJJVgXBwMa"
   },
   "source": [
    "## JDK Installation\n"
   ]
  },
  {
   "cell_type": "code",
   "execution_count": null,
   "metadata": {
    "id": "FOQc3uqeTO4K"
   },
   "outputs": [],
   "source": [
    "!apt-get install openjdk-8-jdk-headless -qq > /dev/null"
   ]
  },
  {
   "cell_type": "markdown",
   "metadata": {
    "id": "1dHLH3E1BOEk"
   },
   "source": [
    "## Spark installation"
   ]
  },
  {
   "cell_type": "code",
   "execution_count": null,
   "metadata": {
    "colab": {
     "base_uri": "https://localhost:8080/"
    },
    "id": "ro7JqK36TRU_",
    "outputId": "6a3faa10-5a7c-4385-dccc-299c585eb15c"
   },
   "outputs": [
    {
     "name": "stdout",
     "output_type": "stream",
     "text": [
      "Looking in indexes: https://pypi.org/simple, https://us-python.pkg.dev/colab-wheels/public/simple/\n",
      "Collecting findspark\n",
      "  Downloading findspark-2.0.1-py2.py3-none-any.whl (4.4 kB)\n",
      "Installing collected packages: findspark\n",
      "Successfully installed findspark-2.0.1\n"
     ]
    }
   ],
   "source": [
    "!pip install findspark"
   ]
  },
  {
   "cell_type": "code",
   "execution_count": null,
   "metadata": {
    "id": "d7QElezJTm_m"
   },
   "outputs": [],
   "source": [
    "# We need to do a bit fo webscrapìng so we get BeatifulSoup\n",
    "from bs4 import BeautifulSoup\n",
    "import requests"
   ]
  },
  {
   "cell_type": "code",
   "execution_count": null,
   "metadata": {
    "id": "c8mFNkhyTqYd"
   },
   "outputs": [],
   "source": [
    "# We obtain the latest spark versions straight from the website via API request\n",
    "url = 'https://downloads.apache.org/spark/' \n",
    "r = requests.get(url)\n",
    "html_doc = r.text\n",
    "soup = BeautifulSoup(html_doc)"
   ]
  },
  {
   "cell_type": "code",
   "execution_count": null,
   "metadata": {
    "colab": {
     "base_uri": "https://localhost:8080/"
    },
    "id": "WZx_0UpDTwTs",
    "outputId": "9c2a8b7c-8b81-4e44-ff71-a0732b84040b"
   },
   "outputs": [
    {
     "name": "stdout",
     "output_type": "stream",
     "text": [
      "['spark-3.1.3/', 'spark-3.2.2/', 'spark-3.3.0/']\n"
     ]
    }
   ],
   "source": [
    "# Read the website and obtain the available versions.\n",
    "link_files = []\n",
    "for link in soup.find_all('a'):\n",
    "  link_files.append(link.get('href'))\n",
    "spark_link = [x for x in link_files if 'spark' in x]  \n",
    "print(spark_link)"
   ]
  },
  {
   "cell_type": "code",
   "execution_count": null,
   "metadata": {
    "colab": {
     "base_uri": "https://localhost:8080/"
    },
    "id": "wFQ9OaTRT0Lu",
    "outputId": "d250b6d0-63aa-46ca-b3f1-b220f739bf44"
   },
   "outputs": [
    {
     "name": "stdout",
     "output_type": "stream",
     "text": [
      "\u001b[K     |████████████████████████████████| 281.5 MB 36 kB/s \n",
      "\u001b[K     |████████████████████████████████| 199 kB 54.0 MB/s \n",
      "\u001b[?25h  Building wheel for pyspark (setup.py) ... \u001b[?25l\u001b[?25hdone\n"
     ]
    }
   ],
   "source": [
    "import os # Operating system library\n",
    "# Automatically install the wanted spark version.\n",
    "!wget -q https://archive.apache.org/dist/spark/spark-3.2.2/spark-3.2.2-bin-hadoop2.7.tgz\n",
    "!tar xf spark-3.2.2-bin-hadoop2.7.tgz\n",
    "# Install PySpark\n",
    "!pip install -q pyspark==3.2.2"
   ]
  },
  {
   "cell_type": "code",
   "execution_count": null,
   "metadata": {
    "colab": {
     "base_uri": "https://localhost:8080/",
     "height": 219
    },
    "id": "7xCUMjm8UwR_",
    "outputId": "39f39eba-3ced-43c2-d79f-87928eb32c8d"
   },
   "outputs": [
    {
     "data": {
      "text/html": [
       "\n",
       "            <div>\n",
       "                <p><b>SparkSession - in-memory</b></p>\n",
       "                \n",
       "        <div>\n",
       "            <p><b>SparkContext</b></p>\n",
       "\n",
       "            <p><a href=\"http://51c18c808d65:4040\">Spark UI</a></p>\n",
       "\n",
       "            <dl>\n",
       "              <dt>Version</dt>\n",
       "                <dd><code>v3.2.2</code></dd>\n",
       "              <dt>Master</dt>\n",
       "                <dd><code>local[*]</code></dd>\n",
       "              <dt>AppName</dt>\n",
       "                <dd><code>Varios</code></dd>\n",
       "            </dl>\n",
       "        </div>\n",
       "        \n",
       "            </div>\n",
       "        "
      ],
      "text/plain": [
       "<pyspark.sql.session.SparkSession at 0x7f496f24d350>"
      ]
     },
     "execution_count": 10,
     "metadata": {},
     "output_type": "execute_result"
    }
   ],
   "source": [
    "# Defining appname and master node.\n",
    "from pyspark.sql import SparkSession\n",
    "from pyspark.sql import functions as F, types as T\n",
    "spark = SparkSession.builder\\\n",
    "                            .appName(\"Varios\")\\\n",
    "                            .master(\"local[*]\")\\\n",
    "                            .getOrCreate()\n",
    "spark"
   ]
  },
  {
   "cell_type": "markdown",
   "metadata": {
    "id": "-5zJWYOBHX37"
   },
   "source": [
    "## Defining environment variables"
   ]
  },
  {
   "cell_type": "code",
   "execution_count": null,
   "metadata": {
    "id": "Q4bTx05vYC7a"
   },
   "outputs": [],
   "source": [
    "os.environ[\"JAVA_HOME\"] = \"/usr/lib/jvm/java-8-openjdk-amd64\"\n",
    "os.environ[\"SPARK_HOME\"] = f\"/content/spark-3.2.2-bin-hadoop2.7\""
   ]
  },
  {
   "cell_type": "markdown",
   "metadata": {
    "id": "IImWwtaEKHXB"
   },
   "source": [
    "#Datasets\n",
    "\n",
    "\n"
   ]
  },
  {
   "cell_type": "code",
   "execution_count": null,
   "metadata": {
    "colab": {
     "base_uri": "https://localhost:8080/"
    },
    "id": "pCMO1E7mYn5W",
    "outputId": "56ac526f-4cf9-4004-f971-6c9a5a904689"
   },
   "outputs": [
    {
     "name": "stdout",
     "output_type": "stream",
     "text": [
      "+------+--------------+----------+----------+--------------+-----------+---------------+------------------+--------+--------+--------+\n",
      "|Row ID|      Order ID|Order Date| Ship Date|     Ship Mode|Customer ID|     Product ID|             Sales|Quantity|Discount|  Profit|\n",
      "+------+--------------+----------+----------+--------------+-----------+---------------+------------------+--------+--------+--------+\n",
      "|     1|CA-2016-152156| 11/8/2016|11/11/2016|  Second Class|   CG-12520|FUR-BO-10001798|            261.96|       2|     0.0| 41.9136|\n",
      "|     2|CA-2016-152156| 11/8/2016|11/11/2016|  Second Class|   CG-12520|FUR-CH-10000454|            731.94|       3|     0.0| 219.582|\n",
      "|     3|CA-2016-138688| 6/12/2016| 6/16/2016|  Second Class|   DV-13045|OFF-LA-10000240|             14.62|       2|     0.0|  6.8714|\n",
      "|     4|US-2015-108966|10/11/2015|10/18/2015|Standard Class|   SO-20335|FUR-TA-10000577|          957.5775|       5|    0.45|-383.031|\n",
      "|     5|US-2015-108966|10/11/2015|10/18/2015|Standard Class|   SO-20335|OFF-ST-10000760|22.368000000000002|       2|     0.2|  2.5164|\n",
      "+------+--------------+----------+----------+--------------+-----------+---------------+------------------+--------+--------+--------+\n",
      "only showing top 5 rows\n",
      "\n",
      "+-----------+---------------+---------+-------------+---------------+--------------+-----------+------+\n",
      "|Customer ID|  Customer Name|  Segment|      Country|           City|         State|Postal Code|Region|\n",
      "+-----------+---------------+---------+-------------+---------------+--------------+-----------+------+\n",
      "|   CG-12520|    Claire Gute| Consumer|United States|      Henderson|      Kentucky|      42420| South|\n",
      "|   DV-13045|Darrin Van Huff|Corporate|United States|    Los Angeles|    California|      90036|  West|\n",
      "|   SO-20335| Sean O'Donnell| Consumer|United States|Fort Lauderdale|       Florida|      33311| South|\n",
      "|   BH-11710|Brosina Hoffman| Consumer|United States|    Los Angeles|    California|      90032|  West|\n",
      "|   AA-10480|   Andrew Allen| Consumer|United States|        Concord|North Carolina|      28027| South|\n",
      "+-----------+---------------+---------+-------------+---------------+--------------+-----------+------+\n",
      "only showing top 5 rows\n",
      "\n",
      "+---------------+---------------+------------+--------------------+\n",
      "|     Product ID|       Category|Sub-Category|        Product Name|\n",
      "+---------------+---------------+------------+--------------------+\n",
      "|FUR-BO-10001798|      Furniture|   Bookcases|Bush Somerset Col...|\n",
      "|FUR-CH-10000454|      Furniture|      Chairs|Hon Deluxe Fabric...|\n",
      "|OFF-LA-10000240|Office Supplies|      Labels|Self-Adhesive Add...|\n",
      "|FUR-TA-10000577|      Furniture|      Tables|Bretford CR4500 S...|\n",
      "|OFF-ST-10000760|Office Supplies|     Storage|Eldon Fold 'N Rol...|\n",
      "+---------------+---------------+------------+--------------------+\n",
      "only showing top 5 rows\n",
      "\n"
     ]
    }
   ],
   "source": [
    "# Building the data frames from the CSVs for distributed processing.\n",
    "transactions_df = spark.read.option(\"header\", True).csv(\"/content/drive/MyDrive/PRACTICA_EJERCICIOS/us_superstore_transactions.csv\")\n",
    "transactions_df.show(5)\n",
    "customers_df = spark.read.options(header= True, delimiter=\";\").csv(\"/content/drive/MyDrive/PRACTICA_EJERCICIOS/us_superstores_customers.csv\")\n",
    "customers_df.show(5)\n",
    "products_df = spark.read.options(header= True, delimiter=\";\").csv(\"/content/drive/MyDrive/PRACTICA_EJERCICIOS/us_superstores_products.csv\")\n",
    "products_df.show(5)"
   ]
  },
  {
   "cell_type": "code",
   "execution_count": null,
   "metadata": {
    "colab": {
     "base_uri": "https://localhost:8080/"
    },
    "id": "2Yfe9unXdMW6",
    "outputId": "9284c7e0-00bc-4277-9f39-f039942e1f2f"
   },
   "outputs": [
    {
     "name": "stdout",
     "output_type": "stream",
     "text": [
      "+---------------+-----------+------+--------------+----------+----------+--------------+------------------+--------+--------+--------+---------------+---------+-------------+---------------+------------+-----------+-------+---------------+------------+--------------------+\n",
      "|     Product ID|Customer ID|Row ID|      Order ID|Order Date| Ship Date|     Ship Mode|             Sales|Quantity|Discount|  Profit|  Customer Name|  Segment|      Country|           City|       State|Postal Code| Region|       Category|Sub-Category|        Product Name|\n",
      "+---------------+-----------+------+--------------+----------+----------+--------------+------------------+--------+--------+--------+---------------+---------+-------------+---------------+------------+-----------+-------+---------------+------------+--------------------+\n",
      "|FUR-BO-10001798|   CG-12520|     1|CA-2016-152156| 11/8/2016|11/11/2016|  Second Class|            261.96|       2|     0.0| 41.9136|    Claire Gute| Consumer|United States|         Dallas|       Texas|      75217|Central|      Furniture|   Bookcases|Bush Somerset Col...|\n",
      "|FUR-BO-10001798|   CG-12520|     1|CA-2016-152156| 11/8/2016|11/11/2016|  Second Class|            261.96|       2|     0.0| 41.9136|    Claire Gute| Consumer|United States|        Houston|       Texas|      77070|Central|      Furniture|   Bookcases|Bush Somerset Col...|\n",
      "|FUR-BO-10001798|   CG-12520|     1|CA-2016-152156| 11/8/2016|11/11/2016|  Second Class|            261.96|       2|     0.0| 41.9136|    Claire Gute| Consumer|United States|      Henderson|    Kentucky|      42420|  South|      Furniture|   Bookcases|Bush Somerset Col...|\n",
      "|FUR-CH-10000454|   CG-12520|     2|CA-2016-152156| 11/8/2016|11/11/2016|  Second Class|            731.94|       3|     0.0| 219.582|    Claire Gute| Consumer|United States|         Dallas|       Texas|      75217|Central|      Furniture|      Chairs|Hon Deluxe Fabric...|\n",
      "|FUR-CH-10000454|   CG-12520|     2|CA-2016-152156| 11/8/2016|11/11/2016|  Second Class|            731.94|       3|     0.0| 219.582|    Claire Gute| Consumer|United States|        Houston|       Texas|      77070|Central|      Furniture|      Chairs|Hon Deluxe Fabric...|\n",
      "|FUR-CH-10000454|   CG-12520|     2|CA-2016-152156| 11/8/2016|11/11/2016|  Second Class|            731.94|       3|     0.0| 219.582|    Claire Gute| Consumer|United States|      Henderson|    Kentucky|      42420|  South|      Furniture|      Chairs|Hon Deluxe Fabric...|\n",
      "|OFF-LA-10000240|   DV-13045|     3|CA-2016-138688| 6/12/2016| 6/16/2016|  Second Class|             14.62|       2|     0.0|  6.8714|Darrin Van Huff|Corporate|United States|   Jacksonville|     Florida|      32216|  South|Office Supplies|      Labels|Self-Adhesive Add...|\n",
      "|OFF-LA-10000240|   DV-13045|     3|CA-2016-138688| 6/12/2016| 6/16/2016|  Second Class|             14.62|       2|     0.0|  6.8714|Darrin Van Huff|Corporate|United States|        Memphis|   Tennessee|      38109|  South|Office Supplies|      Labels|Self-Adhesive Add...|\n",
      "|OFF-LA-10000240|   DV-13045|     3|CA-2016-138688| 6/12/2016| 6/16/2016|  Second Class|             14.62|       2|     0.0|  6.8714|Darrin Van Huff|Corporate|United States|      San Diego|  California|      92037|   West|Office Supplies|      Labels|Self-Adhesive Add...|\n",
      "|OFF-LA-10000240|   DV-13045|     3|CA-2016-138688| 6/12/2016| 6/16/2016|  Second Class|             14.62|       2|     0.0|  6.8714|Darrin Van Huff|Corporate|United States|   Philadelphia|Pennsylvania|      19143|   East|Office Supplies|      Labels|Self-Adhesive Add...|\n",
      "|OFF-LA-10000240|   DV-13045|     3|CA-2016-138688| 6/12/2016| 6/16/2016|  Second Class|             14.62|       2|     0.0|  6.8714|Darrin Van Huff|Corporate|United States|    Los Angeles|  California|      90036|   West|Office Supplies|      Labels|Self-Adhesive Add...|\n",
      "|FUR-TA-10000577|   SO-20335|     4|US-2015-108966|10/11/2015|10/18/2015|Standard Class|          957.5775|       5|    0.45|-383.031| Sean O'Donnell| Consumer|United States|        Greeley|    Colorado|      80634|   West|      Furniture|      Tables|Bretford CR4500 S...|\n",
      "|FUR-TA-10000577|   SO-20335|     4|US-2015-108966|10/11/2015|10/18/2015|Standard Class|          957.5775|       5|    0.45|-383.031| Sean O'Donnell| Consumer|United States|        Seattle|  Washington|      98105|   West|      Furniture|      Tables|Bretford CR4500 S...|\n",
      "|FUR-TA-10000577|   SO-20335|     4|US-2015-108966|10/11/2015|10/18/2015|Standard Class|          957.5775|       5|    0.45|-383.031| Sean O'Donnell| Consumer|United States|    Los Angeles|  California|      90036|   West|      Furniture|      Tables|Bretford CR4500 S...|\n",
      "|FUR-TA-10000577|   SO-20335|     4|US-2015-108966|10/11/2015|10/18/2015|Standard Class|          957.5775|       5|    0.45|-383.031| Sean O'Donnell| Consumer|United States|       Columbia|   Tennessee|      38401|  South|      Furniture|      Tables|Bretford CR4500 S...|\n",
      "|FUR-TA-10000577|   SO-20335|     4|US-2015-108966|10/11/2015|10/18/2015|Standard Class|          957.5775|       5|    0.45|-383.031| Sean O'Donnell| Consumer|United States|      Hempstead|    New York|      11550|   East|      Furniture|      Tables|Bretford CR4500 S...|\n",
      "|FUR-TA-10000577|   SO-20335|     4|US-2015-108966|10/11/2015|10/18/2015|Standard Class|          957.5775|       5|    0.45|-383.031| Sean O'Donnell| Consumer|United States|Fort Lauderdale|     Florida|      33311|  South|      Furniture|      Tables|Bretford CR4500 S...|\n",
      "|OFF-ST-10000760|   SO-20335|     5|US-2015-108966|10/11/2015|10/18/2015|Standard Class|22.368000000000002|       2|     0.2|  2.5164| Sean O'Donnell| Consumer|United States|        Greeley|    Colorado|      80634|   West|Office Supplies|     Storage|Eldon Fold 'N Rol...|\n",
      "|OFF-ST-10000760|   SO-20335|     5|US-2015-108966|10/11/2015|10/18/2015|Standard Class|22.368000000000002|       2|     0.2|  2.5164| Sean O'Donnell| Consumer|United States|        Seattle|  Washington|      98105|   West|Office Supplies|     Storage|Eldon Fold 'N Rol...|\n",
      "|OFF-ST-10000760|   SO-20335|     5|US-2015-108966|10/11/2015|10/18/2015|Standard Class|22.368000000000002|       2|     0.2|  2.5164| Sean O'Donnell| Consumer|United States|    Los Angeles|  California|      90036|   West|Office Supplies|     Storage|Eldon Fold 'N Rol...|\n",
      "+---------------+-----------+------+--------------+----------+----------+--------------+------------------+--------+--------+--------+---------------+---------+-------------+---------------+------------+-----------+-------+---------------+------------+--------------------+\n",
      "only showing top 20 rows\n",
      "\n"
     ]
    }
   ],
   "source": [
    "# Joining the data frames on the appropiate KEYS.\n",
    "tr_cst_df = transactions_df.join(customers_df, on=\"Customer ID\")\n",
    "full_df = tr_cst_df.join(products_df, on=\"Product ID\")\n",
    "full_df.show()"
   ]
  },
  {
   "cell_type": "markdown",
   "metadata": {
    "id": "Rp2zgXF6dVhS"
   },
   "source": []
  },
  {
   "cell_type": "code",
   "execution_count": null,
   "metadata": {
    "colab": {
     "base_uri": "https://localhost:8080/"
    },
    "id": "AoJvxaAwd29_",
    "outputId": "25584292-376a-4274-d13c-345c02e124e6"
   },
   "outputs": [
    {
     "name": "stdout",
     "output_type": "stream",
     "text": [
      "+---------------+-----------+------+--------------+----------+----------+--------------+------------------+--------+--------+--------+---------------+---------+-------------+---------------+------------+-----------+-------+---------------+------------+--------------------+------------------+\n",
      "|     Product ID|Customer ID|Row ID|      Order ID|Order Date| Ship Date|     Ship Mode|             Sales|Quantity|Discount|  Profit|  Customer Name|  Segment|      Country|           City|       State|Postal Code| Region|       Category|Sub-Category|        Product Name|      Precio_venta|\n",
      "+---------------+-----------+------+--------------+----------+----------+--------------+------------------+--------+--------+--------+---------------+---------+-------------+---------------+------------+-----------+-------+---------------+------------+--------------------+------------------+\n",
      "|FUR-BO-10001798|   CG-12520|     1|CA-2016-152156| 11/8/2016|11/11/2016|  Second Class|            261.96|       2|     0.0| 41.9136|    Claire Gute| Consumer|United States|         Dallas|       Texas|      75217|Central|      Furniture|   Bookcases|Bush Somerset Col...|            130.98|\n",
      "|FUR-BO-10001798|   CG-12520|     1|CA-2016-152156| 11/8/2016|11/11/2016|  Second Class|            261.96|       2|     0.0| 41.9136|    Claire Gute| Consumer|United States|        Houston|       Texas|      77070|Central|      Furniture|   Bookcases|Bush Somerset Col...|            130.98|\n",
      "|FUR-BO-10001798|   CG-12520|     1|CA-2016-152156| 11/8/2016|11/11/2016|  Second Class|            261.96|       2|     0.0| 41.9136|    Claire Gute| Consumer|United States|      Henderson|    Kentucky|      42420|  South|      Furniture|   Bookcases|Bush Somerset Col...|            130.98|\n",
      "|FUR-CH-10000454|   CG-12520|     2|CA-2016-152156| 11/8/2016|11/11/2016|  Second Class|            731.94|       3|     0.0| 219.582|    Claire Gute| Consumer|United States|         Dallas|       Texas|      75217|Central|      Furniture|      Chairs|Hon Deluxe Fabric...|243.98000000000002|\n",
      "|FUR-CH-10000454|   CG-12520|     2|CA-2016-152156| 11/8/2016|11/11/2016|  Second Class|            731.94|       3|     0.0| 219.582|    Claire Gute| Consumer|United States|        Houston|       Texas|      77070|Central|      Furniture|      Chairs|Hon Deluxe Fabric...|243.98000000000002|\n",
      "|FUR-CH-10000454|   CG-12520|     2|CA-2016-152156| 11/8/2016|11/11/2016|  Second Class|            731.94|       3|     0.0| 219.582|    Claire Gute| Consumer|United States|      Henderson|    Kentucky|      42420|  South|      Furniture|      Chairs|Hon Deluxe Fabric...|243.98000000000002|\n",
      "|OFF-LA-10000240|   DV-13045|     3|CA-2016-138688| 6/12/2016| 6/16/2016|  Second Class|             14.62|       2|     0.0|  6.8714|Darrin Van Huff|Corporate|United States|   Jacksonville|     Florida|      32216|  South|Office Supplies|      Labels|Self-Adhesive Add...|              7.31|\n",
      "|OFF-LA-10000240|   DV-13045|     3|CA-2016-138688| 6/12/2016| 6/16/2016|  Second Class|             14.62|       2|     0.0|  6.8714|Darrin Van Huff|Corporate|United States|        Memphis|   Tennessee|      38109|  South|Office Supplies|      Labels|Self-Adhesive Add...|              7.31|\n",
      "|OFF-LA-10000240|   DV-13045|     3|CA-2016-138688| 6/12/2016| 6/16/2016|  Second Class|             14.62|       2|     0.0|  6.8714|Darrin Van Huff|Corporate|United States|      San Diego|  California|      92037|   West|Office Supplies|      Labels|Self-Adhesive Add...|              7.31|\n",
      "|OFF-LA-10000240|   DV-13045|     3|CA-2016-138688| 6/12/2016| 6/16/2016|  Second Class|             14.62|       2|     0.0|  6.8714|Darrin Van Huff|Corporate|United States|   Philadelphia|Pennsylvania|      19143|   East|Office Supplies|      Labels|Self-Adhesive Add...|              7.31|\n",
      "|OFF-LA-10000240|   DV-13045|     3|CA-2016-138688| 6/12/2016| 6/16/2016|  Second Class|             14.62|       2|     0.0|  6.8714|Darrin Van Huff|Corporate|United States|    Los Angeles|  California|      90036|   West|Office Supplies|      Labels|Self-Adhesive Add...|              7.31|\n",
      "|FUR-TA-10000577|   SO-20335|     4|US-2015-108966|10/11/2015|10/18/2015|Standard Class|          957.5775|       5|    0.45|-383.031| Sean O'Donnell| Consumer|United States|        Greeley|    Colorado|      80634|   West|      Furniture|      Tables|Bretford CR4500 S...|105.33352500000001|\n",
      "|FUR-TA-10000577|   SO-20335|     4|US-2015-108966|10/11/2015|10/18/2015|Standard Class|          957.5775|       5|    0.45|-383.031| Sean O'Donnell| Consumer|United States|        Seattle|  Washington|      98105|   West|      Furniture|      Tables|Bretford CR4500 S...|105.33352500000001|\n",
      "|FUR-TA-10000577|   SO-20335|     4|US-2015-108966|10/11/2015|10/18/2015|Standard Class|          957.5775|       5|    0.45|-383.031| Sean O'Donnell| Consumer|United States|    Los Angeles|  California|      90036|   West|      Furniture|      Tables|Bretford CR4500 S...|105.33352500000001|\n",
      "|FUR-TA-10000577|   SO-20335|     4|US-2015-108966|10/11/2015|10/18/2015|Standard Class|          957.5775|       5|    0.45|-383.031| Sean O'Donnell| Consumer|United States|       Columbia|   Tennessee|      38401|  South|      Furniture|      Tables|Bretford CR4500 S...|105.33352500000001|\n",
      "|FUR-TA-10000577|   SO-20335|     4|US-2015-108966|10/11/2015|10/18/2015|Standard Class|          957.5775|       5|    0.45|-383.031| Sean O'Donnell| Consumer|United States|      Hempstead|    New York|      11550|   East|      Furniture|      Tables|Bretford CR4500 S...|105.33352500000001|\n",
      "|FUR-TA-10000577|   SO-20335|     4|US-2015-108966|10/11/2015|10/18/2015|Standard Class|          957.5775|       5|    0.45|-383.031| Sean O'Donnell| Consumer|United States|Fort Lauderdale|     Florida|      33311|  South|      Furniture|      Tables|Bretford CR4500 S...|105.33352500000001|\n",
      "|OFF-ST-10000760|   SO-20335|     5|US-2015-108966|10/11/2015|10/18/2015|Standard Class|22.368000000000002|       2|     0.2|  2.5164| Sean O'Donnell| Consumer|United States|        Greeley|    Colorado|      80634|   West|Office Supplies|     Storage|Eldon Fold 'N Rol...|            8.9472|\n",
      "|OFF-ST-10000760|   SO-20335|     5|US-2015-108966|10/11/2015|10/18/2015|Standard Class|22.368000000000002|       2|     0.2|  2.5164| Sean O'Donnell| Consumer|United States|        Seattle|  Washington|      98105|   West|Office Supplies|     Storage|Eldon Fold 'N Rol...|            8.9472|\n",
      "|OFF-ST-10000760|   SO-20335|     5|US-2015-108966|10/11/2015|10/18/2015|Standard Class|22.368000000000002|       2|     0.2|  2.5164| Sean O'Donnell| Consumer|United States|    Los Angeles|  California|      90036|   West|Office Supplies|     Storage|Eldon Fold 'N Rol...|            8.9472|\n",
      "+---------------+-----------+------+--------------+----------+----------+--------------+------------------+--------+--------+--------+---------------+---------+-------------+---------------+------------+-----------+-------+---------------+------------+--------------------+------------------+\n",
      "only showing top 20 rows\n",
      "\n"
     ]
    }
   ],
   "source": [
    "# Calculating the unit sale price (considering possible discounts)\n",
    "full_df = full_df.withColumn(\"Precio_venta\", (full_df.Sales/full_df.Quantity)*(1 - full_df.Discount))\n",
    "full_df.show()"
   ]
  },
  {
   "cell_type": "code",
   "execution_count": null,
   "metadata": {
    "colab": {
     "base_uri": "https://localhost:8080/"
    },
    "id": "23QhRR4amfAX",
    "outputId": "1ff09099-bdab-4f61-f445-65fb15f46fac"
   },
   "outputs": [
    {
     "name": "stdout",
     "output_type": "stream",
     "text": [
      "+---------------+-----------+------+--------------+----------+----------+--------------+------------------+--------+--------+--------+---------------+---------+-------------+---------------+------------+-----------+-------+---------------+------------+--------------------+------------------+------------------+\n",
      "|     Product ID|Customer ID|Row ID|      Order ID|Order Date| Ship Date|     Ship Mode|             Sales|Quantity|Discount|  Profit|  Customer Name|  Segment|      Country|           City|       State|Postal Code| Region|       Category|Sub-Category|        Product Name|      Precio_venta|Beneficio_unitario|\n",
      "+---------------+-----------+------+--------------+----------+----------+--------------+------------------+--------+--------+--------+---------------+---------+-------------+---------------+------------+-----------+-------+---------------+------------+--------------------+------------------+------------------+\n",
      "|FUR-BO-10001798|   CG-12520|     1|CA-2016-152156| 11/8/2016|11/11/2016|  Second Class|            261.96|       2|     0.0| 41.9136|    Claire Gute| Consumer|United States|         Dallas|       Texas|      75217|Central|      Furniture|   Bookcases|Bush Somerset Col...|            130.98|           20.9568|\n",
      "|FUR-BO-10001798|   CG-12520|     1|CA-2016-152156| 11/8/2016|11/11/2016|  Second Class|            261.96|       2|     0.0| 41.9136|    Claire Gute| Consumer|United States|        Houston|       Texas|      77070|Central|      Furniture|   Bookcases|Bush Somerset Col...|            130.98|           20.9568|\n",
      "|FUR-BO-10001798|   CG-12520|     1|CA-2016-152156| 11/8/2016|11/11/2016|  Second Class|            261.96|       2|     0.0| 41.9136|    Claire Gute| Consumer|United States|      Henderson|    Kentucky|      42420|  South|      Furniture|   Bookcases|Bush Somerset Col...|            130.98|           20.9568|\n",
      "|FUR-CH-10000454|   CG-12520|     2|CA-2016-152156| 11/8/2016|11/11/2016|  Second Class|            731.94|       3|     0.0| 219.582|    Claire Gute| Consumer|United States|         Dallas|       Texas|      75217|Central|      Furniture|      Chairs|Hon Deluxe Fabric...|243.98000000000002|            73.194|\n",
      "|FUR-CH-10000454|   CG-12520|     2|CA-2016-152156| 11/8/2016|11/11/2016|  Second Class|            731.94|       3|     0.0| 219.582|    Claire Gute| Consumer|United States|        Houston|       Texas|      77070|Central|      Furniture|      Chairs|Hon Deluxe Fabric...|243.98000000000002|            73.194|\n",
      "|FUR-CH-10000454|   CG-12520|     2|CA-2016-152156| 11/8/2016|11/11/2016|  Second Class|            731.94|       3|     0.0| 219.582|    Claire Gute| Consumer|United States|      Henderson|    Kentucky|      42420|  South|      Furniture|      Chairs|Hon Deluxe Fabric...|243.98000000000002|            73.194|\n",
      "|OFF-LA-10000240|   DV-13045|     3|CA-2016-138688| 6/12/2016| 6/16/2016|  Second Class|             14.62|       2|     0.0|  6.8714|Darrin Van Huff|Corporate|United States|   Jacksonville|     Florida|      32216|  South|Office Supplies|      Labels|Self-Adhesive Add...|              7.31|            3.4357|\n",
      "|OFF-LA-10000240|   DV-13045|     3|CA-2016-138688| 6/12/2016| 6/16/2016|  Second Class|             14.62|       2|     0.0|  6.8714|Darrin Van Huff|Corporate|United States|        Memphis|   Tennessee|      38109|  South|Office Supplies|      Labels|Self-Adhesive Add...|              7.31|            3.4357|\n",
      "|OFF-LA-10000240|   DV-13045|     3|CA-2016-138688| 6/12/2016| 6/16/2016|  Second Class|             14.62|       2|     0.0|  6.8714|Darrin Van Huff|Corporate|United States|      San Diego|  California|      92037|   West|Office Supplies|      Labels|Self-Adhesive Add...|              7.31|            3.4357|\n",
      "|OFF-LA-10000240|   DV-13045|     3|CA-2016-138688| 6/12/2016| 6/16/2016|  Second Class|             14.62|       2|     0.0|  6.8714|Darrin Van Huff|Corporate|United States|   Philadelphia|Pennsylvania|      19143|   East|Office Supplies|      Labels|Self-Adhesive Add...|              7.31|            3.4357|\n",
      "|OFF-LA-10000240|   DV-13045|     3|CA-2016-138688| 6/12/2016| 6/16/2016|  Second Class|             14.62|       2|     0.0|  6.8714|Darrin Van Huff|Corporate|United States|    Los Angeles|  California|      90036|   West|Office Supplies|      Labels|Self-Adhesive Add...|              7.31|            3.4357|\n",
      "|FUR-TA-10000577|   SO-20335|     4|US-2015-108966|10/11/2015|10/18/2015|Standard Class|          957.5775|       5|    0.45|-383.031| Sean O'Donnell| Consumer|United States|        Greeley|    Colorado|      80634|   West|      Furniture|      Tables|Bretford CR4500 S...|105.33352500000001|          -76.6062|\n",
      "|FUR-TA-10000577|   SO-20335|     4|US-2015-108966|10/11/2015|10/18/2015|Standard Class|          957.5775|       5|    0.45|-383.031| Sean O'Donnell| Consumer|United States|        Seattle|  Washington|      98105|   West|      Furniture|      Tables|Bretford CR4500 S...|105.33352500000001|          -76.6062|\n",
      "|FUR-TA-10000577|   SO-20335|     4|US-2015-108966|10/11/2015|10/18/2015|Standard Class|          957.5775|       5|    0.45|-383.031| Sean O'Donnell| Consumer|United States|    Los Angeles|  California|      90036|   West|      Furniture|      Tables|Bretford CR4500 S...|105.33352500000001|          -76.6062|\n",
      "|FUR-TA-10000577|   SO-20335|     4|US-2015-108966|10/11/2015|10/18/2015|Standard Class|          957.5775|       5|    0.45|-383.031| Sean O'Donnell| Consumer|United States|       Columbia|   Tennessee|      38401|  South|      Furniture|      Tables|Bretford CR4500 S...|105.33352500000001|          -76.6062|\n",
      "|FUR-TA-10000577|   SO-20335|     4|US-2015-108966|10/11/2015|10/18/2015|Standard Class|          957.5775|       5|    0.45|-383.031| Sean O'Donnell| Consumer|United States|      Hempstead|    New York|      11550|   East|      Furniture|      Tables|Bretford CR4500 S...|105.33352500000001|          -76.6062|\n",
      "|FUR-TA-10000577|   SO-20335|     4|US-2015-108966|10/11/2015|10/18/2015|Standard Class|          957.5775|       5|    0.45|-383.031| Sean O'Donnell| Consumer|United States|Fort Lauderdale|     Florida|      33311|  South|      Furniture|      Tables|Bretford CR4500 S...|105.33352500000001|          -76.6062|\n",
      "|OFF-ST-10000760|   SO-20335|     5|US-2015-108966|10/11/2015|10/18/2015|Standard Class|22.368000000000002|       2|     0.2|  2.5164| Sean O'Donnell| Consumer|United States|        Greeley|    Colorado|      80634|   West|Office Supplies|     Storage|Eldon Fold 'N Rol...|            8.9472|            1.2582|\n",
      "|OFF-ST-10000760|   SO-20335|     5|US-2015-108966|10/11/2015|10/18/2015|Standard Class|22.368000000000002|       2|     0.2|  2.5164| Sean O'Donnell| Consumer|United States|        Seattle|  Washington|      98105|   West|Office Supplies|     Storage|Eldon Fold 'N Rol...|            8.9472|            1.2582|\n",
      "|OFF-ST-10000760|   SO-20335|     5|US-2015-108966|10/11/2015|10/18/2015|Standard Class|22.368000000000002|       2|     0.2|  2.5164| Sean O'Donnell| Consumer|United States|    Los Angeles|  California|      90036|   West|Office Supplies|     Storage|Eldon Fold 'N Rol...|            8.9472|            1.2582|\n",
      "+---------------+-----------+------+--------------+----------+----------+--------------+------------------+--------+--------+--------+---------------+---------+-------------+---------------+------------+-----------+-------+---------------+------------+--------------------+------------------+------------------+\n",
      "only showing top 20 rows\n",
      "\n"
     ]
    }
   ],
   "source": [
    "# Marginal benefit \n",
    "full_df.createOrReplaceTempView(\"full_df\")\n",
    "full_df = spark.sql(\"SELECT *, (Profit/Quantity) AS Beneficio_unitario FROM full_df\")\n",
    "full_df.show()"
   ]
  },
  {
   "cell_type": "code",
   "execution_count": null,
   "metadata": {
    "colab": {
     "base_uri": "https://localhost:8080/"
    },
    "id": "YUXsgwr3tHen",
    "outputId": "2b3e18c8-eb05-4bcc-88b1-4a65fd90c503"
   },
   "outputs": [
    {
     "name": "stdout",
     "output_type": "stream",
     "text": [
      "+---------------+-----------+------+--------------+----------+----------+--------------+------------------+--------+--------+--------+---------------+---------+-------------+---------------+------------+-----------+-------+---------------+------------+--------------------+------------------+------------------+------------------+\n",
      "|     Product ID|Customer ID|Row ID|      Order ID|Order Date| Ship Date|     Ship Mode|             Sales|Quantity|Discount|  Profit|  Customer Name|  Segment|      Country|           City|       State|Postal Code| Region|       Category|Sub-Category|        Product Name|      Precio_venta|Beneficio_unitario|    Coste_unitario|\n",
      "+---------------+-----------+------+--------------+----------+----------+--------------+------------------+--------+--------+--------+---------------+---------+-------------+---------------+------------+-----------+-------+---------------+------------+--------------------+------------------+------------------+------------------+\n",
      "|FUR-BO-10001798|   CG-12520|     1|CA-2016-152156| 11/8/2016|11/11/2016|  Second Class|            261.96|       2|     0.0| 41.9136|    Claire Gute| Consumer|United States|         Dallas|       Texas|      75217|Central|      Furniture|   Bookcases|Bush Somerset Col...|            130.98|           20.9568|110.02319999999999|\n",
      "|FUR-BO-10001798|   CG-12520|     1|CA-2016-152156| 11/8/2016|11/11/2016|  Second Class|            261.96|       2|     0.0| 41.9136|    Claire Gute| Consumer|United States|        Houston|       Texas|      77070|Central|      Furniture|   Bookcases|Bush Somerset Col...|            130.98|           20.9568|110.02319999999999|\n",
      "|FUR-BO-10001798|   CG-12520|     1|CA-2016-152156| 11/8/2016|11/11/2016|  Second Class|            261.96|       2|     0.0| 41.9136|    Claire Gute| Consumer|United States|      Henderson|    Kentucky|      42420|  South|      Furniture|   Bookcases|Bush Somerset Col...|            130.98|           20.9568|110.02319999999999|\n",
      "|FUR-CH-10000454|   CG-12520|     2|CA-2016-152156| 11/8/2016|11/11/2016|  Second Class|            731.94|       3|     0.0| 219.582|    Claire Gute| Consumer|United States|         Dallas|       Texas|      75217|Central|      Furniture|      Chairs|Hon Deluxe Fabric...|243.98000000000002|            73.194|           170.786|\n",
      "|FUR-CH-10000454|   CG-12520|     2|CA-2016-152156| 11/8/2016|11/11/2016|  Second Class|            731.94|       3|     0.0| 219.582|    Claire Gute| Consumer|United States|        Houston|       Texas|      77070|Central|      Furniture|      Chairs|Hon Deluxe Fabric...|243.98000000000002|            73.194|           170.786|\n",
      "|FUR-CH-10000454|   CG-12520|     2|CA-2016-152156| 11/8/2016|11/11/2016|  Second Class|            731.94|       3|     0.0| 219.582|    Claire Gute| Consumer|United States|      Henderson|    Kentucky|      42420|  South|      Furniture|      Chairs|Hon Deluxe Fabric...|243.98000000000002|            73.194|           170.786|\n",
      "|OFF-LA-10000240|   DV-13045|     3|CA-2016-138688| 6/12/2016| 6/16/2016|  Second Class|             14.62|       2|     0.0|  6.8714|Darrin Van Huff|Corporate|United States|   Jacksonville|     Florida|      32216|  South|Office Supplies|      Labels|Self-Adhesive Add...|              7.31|            3.4357|3.8742999999999994|\n",
      "|OFF-LA-10000240|   DV-13045|     3|CA-2016-138688| 6/12/2016| 6/16/2016|  Second Class|             14.62|       2|     0.0|  6.8714|Darrin Van Huff|Corporate|United States|        Memphis|   Tennessee|      38109|  South|Office Supplies|      Labels|Self-Adhesive Add...|              7.31|            3.4357|3.8742999999999994|\n",
      "|OFF-LA-10000240|   DV-13045|     3|CA-2016-138688| 6/12/2016| 6/16/2016|  Second Class|             14.62|       2|     0.0|  6.8714|Darrin Van Huff|Corporate|United States|      San Diego|  California|      92037|   West|Office Supplies|      Labels|Self-Adhesive Add...|              7.31|            3.4357|3.8742999999999994|\n",
      "|OFF-LA-10000240|   DV-13045|     3|CA-2016-138688| 6/12/2016| 6/16/2016|  Second Class|             14.62|       2|     0.0|  6.8714|Darrin Van Huff|Corporate|United States|   Philadelphia|Pennsylvania|      19143|   East|Office Supplies|      Labels|Self-Adhesive Add...|              7.31|            3.4357|3.8742999999999994|\n",
      "|OFF-LA-10000240|   DV-13045|     3|CA-2016-138688| 6/12/2016| 6/16/2016|  Second Class|             14.62|       2|     0.0|  6.8714|Darrin Van Huff|Corporate|United States|    Los Angeles|  California|      90036|   West|Office Supplies|      Labels|Self-Adhesive Add...|              7.31|            3.4357|3.8742999999999994|\n",
      "|FUR-TA-10000577|   SO-20335|     4|US-2015-108966|10/11/2015|10/18/2015|Standard Class|          957.5775|       5|    0.45|-383.031| Sean O'Donnell| Consumer|United States|        Greeley|    Colorado|      80634|   West|      Furniture|      Tables|Bretford CR4500 S...|105.33352500000001|          -76.6062|        181.939725|\n",
      "|FUR-TA-10000577|   SO-20335|     4|US-2015-108966|10/11/2015|10/18/2015|Standard Class|          957.5775|       5|    0.45|-383.031| Sean O'Donnell| Consumer|United States|        Seattle|  Washington|      98105|   West|      Furniture|      Tables|Bretford CR4500 S...|105.33352500000001|          -76.6062|        181.939725|\n",
      "|FUR-TA-10000577|   SO-20335|     4|US-2015-108966|10/11/2015|10/18/2015|Standard Class|          957.5775|       5|    0.45|-383.031| Sean O'Donnell| Consumer|United States|    Los Angeles|  California|      90036|   West|      Furniture|      Tables|Bretford CR4500 S...|105.33352500000001|          -76.6062|        181.939725|\n",
      "|FUR-TA-10000577|   SO-20335|     4|US-2015-108966|10/11/2015|10/18/2015|Standard Class|          957.5775|       5|    0.45|-383.031| Sean O'Donnell| Consumer|United States|       Columbia|   Tennessee|      38401|  South|      Furniture|      Tables|Bretford CR4500 S...|105.33352500000001|          -76.6062|        181.939725|\n",
      "|FUR-TA-10000577|   SO-20335|     4|US-2015-108966|10/11/2015|10/18/2015|Standard Class|          957.5775|       5|    0.45|-383.031| Sean O'Donnell| Consumer|United States|      Hempstead|    New York|      11550|   East|      Furniture|      Tables|Bretford CR4500 S...|105.33352500000001|          -76.6062|        181.939725|\n",
      "|FUR-TA-10000577|   SO-20335|     4|US-2015-108966|10/11/2015|10/18/2015|Standard Class|          957.5775|       5|    0.45|-383.031| Sean O'Donnell| Consumer|United States|Fort Lauderdale|     Florida|      33311|  South|      Furniture|      Tables|Bretford CR4500 S...|105.33352500000001|          -76.6062|        181.939725|\n",
      "|OFF-ST-10000760|   SO-20335|     5|US-2015-108966|10/11/2015|10/18/2015|Standard Class|22.368000000000002|       2|     0.2|  2.5164| Sean O'Donnell| Consumer|United States|        Greeley|    Colorado|      80634|   West|Office Supplies|     Storage|Eldon Fold 'N Rol...|            8.9472|            1.2582|             7.689|\n",
      "|OFF-ST-10000760|   SO-20335|     5|US-2015-108966|10/11/2015|10/18/2015|Standard Class|22.368000000000002|       2|     0.2|  2.5164| Sean O'Donnell| Consumer|United States|        Seattle|  Washington|      98105|   West|Office Supplies|     Storage|Eldon Fold 'N Rol...|            8.9472|            1.2582|             7.689|\n",
      "|OFF-ST-10000760|   SO-20335|     5|US-2015-108966|10/11/2015|10/18/2015|Standard Class|22.368000000000002|       2|     0.2|  2.5164| Sean O'Donnell| Consumer|United States|    Los Angeles|  California|      90036|   West|Office Supplies|     Storage|Eldon Fold 'N Rol...|            8.9472|            1.2582|             7.689|\n",
      "+---------------+-----------+------+--------------+----------+----------+--------------+------------------+--------+--------+--------+---------------+---------+-------------+---------------+------------+-----------+-------+---------------+------------+--------------------+------------------+------------------+------------------+\n",
      "only showing top 20 rows\n",
      "\n"
     ]
    }
   ],
   "source": [
    "# Marginal Cost (substracting unit sale price and marginal benefit)\n",
    "full_df.createOrReplaceTempView(\"full_df\")\n",
    "full_df = spark.sql(\n",
    "    \"\"\"SELECT *, (Precio_venta - Beneficio_unitario) AS Coste_unitario \n",
    "     FROM full_df\"\"\"\n",
    "    )\n",
    "full_df.show()"
   ]
  },
  {
   "cell_type": "code",
   "execution_count": null,
   "metadata": {
    "colab": {
     "base_uri": "https://localhost:8080/"
    },
    "id": "CRsQA5GTwujq",
    "outputId": "dd0b6696-4997-4bcb-e6f2-5e643ec8a170"
   },
   "outputs": [
    {
     "name": "stdout",
     "output_type": "stream",
     "text": [
      "+---------------+------------------+\n",
      "|       Category|Total_rentabilidad|\n",
      "+---------------+------------------+\n",
      "|     Technology|1083783.5844000045|\n",
      "|Office Supplies| 924020.6516999817|\n",
      "|      Furniture|161104.80640000163|\n",
      "+---------------+------------------+\n",
      "\n"
     ]
    }
   ],
   "source": [
    "# Highest profitability by product category.\n",
    "full_df.createOrReplaceTempView(\"full_df\")\n",
    "spark.sql(\"SELECT Category, SUM(Profit) AS Total_rentabilidad FROM full_df GROUP BY Category ORDER BY Total_rentabilidad DESC\").show()"
   ]
  },
  {
   "cell_type": "code",
   "execution_count": null,
   "metadata": {
    "colab": {
     "base_uri": "https://localhost:8080/"
    },
    "id": "7HUBtuMNw_0_",
    "outputId": "f77a4678-0834-4c8e-b80a-d81a13ef0b9b"
   },
   "outputs": [
    {
     "name": "stdout",
     "output_type": "stream",
     "text": [
      "+--------------------+--------+-------------------+\n",
      "|        Product_name|Discount| Beneficio_unitario|\n",
      "+--------------------+--------+-------------------+\n",
      "|\"Acco Recycled 2\"...|     0.8|            -4.7685|\n",
      "|Ibico Plastic Spi...|     0.8|            -10.336|\n",
      "|Insertable Tab Po...|     0.8|            -2.6466|\n",
      "|Pressboard Hangin...|     0.8|            -1.5744|\n",
      "|Acco 6 Outlet Gua...|     0.8|             -6.045|\n",
      "|Acco D-Ring Binde...|     0.8| -6.627800000000001|\n",
      "|Avery Non-Stick B...|     0.8|            -1.5715|\n",
      "|Wilson Jones Inte...|     0.8|-5.5360000000000005|\n",
      "|Cardinal Hold-It ...|     0.8|            -2.6334|\n",
      "|Acco Smartsocket ...|     0.8|           -23.7654|\n",
      "|\"Acco Pressboard ...|     0.8|            -1.5221|\n",
      "|\"Wilson Jones Ell...|     0.8|            -13.268|\n",
      "|Recycled Easel Ri...|     0.8|-5.2219999999999995|\n",
      "|Avery Poly Binder...|     0.8|            -1.1456|\n",
      "|Surelock Post Bin...|     0.8| -9.168000000000001|\n",
      "|Computer Printout...|     0.8|-0.5376000000000001|\n",
      "|GBC Laser Imprint...|     0.8|            -4.7091|\n",
      "|Holmes HEPA Air P...|     0.8|             -9.801|\n",
      "|Wilson Jones Lega...|     0.8|             -6.597|\n",
      "|Cardinal HOLDit! ...|     0.8|-1.9623000000000002|\n",
      "+--------------------+--------+-------------------+\n",
      "only showing top 20 rows\n",
      "\n"
     ]
    }
   ],
   "source": [
    "# Products with an applied discount that have a negative total transaction amount.\n",
    "\n",
    "full_df = full_df.withColumnRenamed(\"Product Name\",\"Product_name\")\n",
    "full_df = full_df.withColumn(\"Discount\",full_df.Discount.cast(\"float\"))\n",
    "full_df = full_df.withColumn(\"Profit\",full_df.Profit.cast(\"float\"))\n",
    "full_df.createOrReplaceTempView(\"full_df\")\n",
    "\n",
    "#full_df.printSchema()\n",
    "spark.sql(\"SELECT DISTINCT Product_name, Discount, Beneficio_unitario FROM full_df WHERE Discount > 0 AND Beneficio_unitario < 0 ORDER BY Discount DESC\").show()\n"
   ]
  },
  {
   "cell_type": "code",
   "execution_count": null,
   "metadata": {
    "colab": {
     "base_uri": "https://localhost:8080/"
    },
    "id": "KqAZgpwg0Gfv",
    "outputId": "5660ae8f-9859-4fca-8601-07563393a58b"
   },
   "outputs": [
    {
     "name": "stdout",
     "output_type": "stream",
     "text": [
      "+-----------+-------------------+\n",
      "|Customer_ID| rentabilidad_media|\n",
      "+-----------+-------------------+\n",
      "|   VW-21775| -2837.330047395494|\n",
      "|   RR-19315|-146.99439334869385|\n",
      "|   MY-17380|-117.23880092302961|\n",
      "|   MS-17530| -8.484399795532227|\n",
      "|   EM-13960| -5.609999895095825|\n",
      "|   AH-10690|-342.73439927782306|\n",
      "|   BD-11500| -128.1450023651123|\n",
      "|   JF-15490|-1075.0020337104797|\n",
      "|   JF-15415| -21.58919906616211|\n",
      "|   IM-15070|  -643.008109974861|\n",
      "|   PW-19240|  -509.457913915316|\n",
      "|   OT-18730|  -1110.36802927653|\n",
      "|   NW-18400|-1406.7304773012795|\n",
      "|   JH-15985|  -859.528789813702|\n",
      "|   MG-18145|  -832.520838646662|\n",
      "|   SM-20320|-1877.1234741806986|\n",
      "|   ND-18370| -636.7292854785919|\n",
      "|   BG-11695| -9.058799743652344|\n",
      "|   BS-11380| -256.1645098527272|\n",
      "|   SO-20335|-473.30460691452026|\n",
      "+-----------+-------------------+\n",
      "only showing top 20 rows\n",
      "\n"
     ]
    }
   ],
   "source": [
    "# Average profitability from clients participating in last point.\n",
    "full_df = full_df.withColumnRenamed(\"Customer ID\",\"Customer_ID\")\n",
    "\n",
    "full_df.createOrReplaceTempView(\"full_df\")\n",
    "new_df = spark.sql(\"\"\"\n",
    "SELECT Customer_ID, SUM(Profit/Quantity) AS rentabilidad_media\n",
    "FROM full_df\n",
    "WHERE Discount >0 AND Profit < 0\n",
    "GROUP BY Customer_ID\n",
    "\"\"\").show()"
   ]
  },
  {
   "cell_type": "code",
   "execution_count": null,
   "metadata": {
    "colab": {
     "base_uri": "https://localhost:8080/"
    },
    "id": "4TQKYCycTOml",
    "outputId": "1345ad65-9dbd-44c0-b2a8-4cd0ae0d6d76"
   },
   "outputs": [
    {
     "name": "stdout",
     "output_type": "stream",
     "text": [
      "+--------------------+--------------------------+--------------------------+\n",
      "|        Product_name|Nuevo_precio_sin_descuento|Nuevo_precio_con_descuento|\n",
      "+--------------------+--------------------------+--------------------------+\n",
      "|OIC Bulk Pack Met...|                    1.9893|                   1.79037|\n",
      "|Home/Office Perso...|        30.762600000000006|        27.686340000000005|\n",
      "|Avery Durable Bin...|                    2.2032|                   1.98288|\n",
      "|Wilson Jones Easy...|        0.8370000000000001|        0.7533000000000001|\n",
      "|           Avery 499|        2.8386000000000005|        2.5547400000000007|\n",
      "|\"Bevis Round Bull...|        202.57379999999998|                 182.31642|\n",
      "|     Staple envelope|                    6.1851|         5.566590000000001|\n",
      "|Fellowes Bankers ...|        35.497800000000005|        31.948020000000007|\n",
      "|\"Adams Telephone ...|                    4.4982|                   4.04838|\n",
      "|Polycom SoundPoin...|                   169.395|                  152.4555|\n",
      "|     Jabra SPEAK 410|        101.50920000000002|         91.35828000000002|\n",
      "|Balt Solid Wood R...|                 609.45885|                548.512965|\n",
      "|\"Rubbermaid Clust...|                  113.1996|        101.87964000000001|\n",
      "|Steel Personal Fi...|        38.883449999999996|        34.995104999999995|\n",
      "|Deflect-o SuperTr...|                   14.4441|        12.999690000000001|\n",
      "|Sauder Forest Hil...|        194.55239999999998|        175.09715999999997|\n",
      "|Office Star - Pro...|        315.88200000000006|         284.2938000000001|\n",
      "|\"Seth Thomas 8 1/...|                   15.8184|                  14.23656|\n",
      "|Sanford Colorific...|        1.7842500000000001|                  1.605825|\n",
      "|GBC Poly Designer...|                    8.7885|         7.909650000000001|\n",
      "+--------------------+--------------------------+--------------------------+\n",
      "only showing top 20 rows\n",
      "\n"
     ]
    }
   ],
   "source": [
    "# Calculating a new profit price of 50% on the marginal cost of each product with and without discount.\n",
    "spark.sql(\"\"\"\n",
    "SELECT \n",
    "          DISTINCT Product_name,\n",
    "         (Coste_unitario*1.50) AS Nuevo_precio_sin_descuento,\n",
    "         (Coste_unitario*1.50*0.90) AS Nuevo_precio_con_descuento\n",
    "FROM full_df\n",
    "\"\"\").show()"
   ]
  },
  {
   "cell_type": "code",
   "execution_count": null,
   "metadata": {
    "colab": {
     "base_uri": "https://localhost:8080/"
    },
    "id": "1Nleyyl9w93e",
    "outputId": "4a094530-4c39-464a-87ea-2f83a66177f7"
   },
   "outputs": [
    {
     "name": "stdout",
     "output_type": "stream",
     "text": [
      "GANADOR NÚMERO 1:\n",
      "+-----------+----------------------+-------+-------------+\n",
      "|Customer_ID|Number_of_transactions|  State|Customer_name|\n",
      "+-----------+----------------------+-------+-------------+\n",
      "|   EP-13915|                    96|Florida|   Emily Phan|\n",
      "+-----------+----------------------+-------+-------------+\n",
      "\n"
     ]
    }
   ],
   "source": [
    "# The most profitable client:\n",
    "full_df = full_df.withColumnRenamed(\"Customer Name\",\"Customer_name\")\n",
    "full_df.createOrReplaceTempView(\"full_df\")\n",
    "print(\"GANADOR NÚMERO 1:\")\n",
    "spark.sql(\"\"\"\n",
    "SELECT Customer_ID, COUNT(*) AS Number_of_transactions, State, Customer_name\n",
    "FROM full_df\n",
    "WHERE State = \"Florida\"\n",
    "GROUP BY Customer_ID, State, Customer_name\n",
    "ORDER BY Number_of_transactions DESC\n",
    "LIMIT 1\n",
    "\"\"\").show()"
   ]
  },
  {
   "cell_type": "code",
   "execution_count": null,
   "metadata": {
    "colab": {
     "base_uri": "https://localhost:8080/"
    },
    "id": "NmKV6U6RWNfi",
    "outputId": "06d5cbae-6a28-4165-eb30-6e4b4f98bd2f"
   },
   "outputs": [
    {
     "name": "stdout",
     "output_type": "stream",
     "text": [
      "GANADOR NÚMERO 2:\n",
      "+-----------+-----------------+-------------+\n",
      "|Customer_ID|     profit_total|Customer_name|\n",
      "+-----------+-----------------+-------------+\n",
      "|   SC-20095|5839.255176946521| Sanjit Chand|\n",
      "+-----------+-----------------+-------------+\n",
      "\n"
     ]
    }
   ],
   "source": [
    "# The most loyal client (with the most amount of purchases)\n",
    "print(\"GANADOR NÚMERO 2:\")\n",
    "spark.sql(\n",
    "\"\"\"SELECT Customer_ID, SUM(Profit) AS profit_total, Customer_name\n",
    "FROM full_df\n",
    "WHERE State = \"Florida\"\n",
    "GROUP BY Customer_ID, Customer_name\n",
    "ORDER BY profit_total DESC\n",
    "LIMIT 1\n",
    "\"\"\").show()"
   ]
  }
 ],
 "metadata": {
  "colab": {
   "collapsed_sections": [],
   "provenance": []
  },
  "kernelspec": {
   "display_name": "Python 3 (ipykernel)",
   "language": "python",
   "name": "python3"
  },
  "language_info": {
   "codemirror_mode": {
    "name": "ipython",
    "version": 3
   },
   "file_extension": ".py",
   "mimetype": "text/x-python",
   "name": "python",
   "nbconvert_exporter": "python",
   "pygments_lexer": "ipython3",
   "version": "3.10.8"
  }
 },
 "nbformat": 4,
 "nbformat_minor": 1
}
