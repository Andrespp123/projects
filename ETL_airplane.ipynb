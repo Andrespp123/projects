{
 "cells": [
  {
   "cell_type": "code",
   "execution_count": 28,
   "id": "8750f8c8",
   "metadata": {},
   "outputs": [],
   "source": [
    "#Installing dependencies\n",
    "import pandas as pd\n",
    "import docx2txt as dtxt\n",
    "import requests\n",
    "import json "
   ]
  },
  {
   "cell_type": "code",
   "execution_count": 3,
   "id": "563d497c",
   "metadata": {},
   "outputs": [],
   "source": [
    "# We specify the URL that we are targeting for the API. \n",
    "# In this case it is a cocktail recipe page and it has a API enabled to get\n",
    "# info regarding cocktails.\n",
    "url = \"https://www.thecocktaildb.com/api/json/v1/1/random.php\"\n",
    "payload = requests.get(url)"
   ]
  },
  {
   "cell_type": "code",
   "execution_count": 4,
   "id": "ef22e3d5",
   "metadata": {},
   "outputs": [
    {
     "data": {
      "text/plain": [
       "{'drinks': [{'idDrink': '17212',\n",
       "   'strDrink': 'Espresso Martini',\n",
       "   'strDrinkAlternate': None,\n",
       "   'strTags': 'IBA,NewEra',\n",
       "   'strVideo': None,\n",
       "   'strCategory': 'Cocktail',\n",
       "   'strIBA': 'New Era Drinks',\n",
       "   'strAlcoholic': 'Alcoholic',\n",
       "   'strGlass': 'Cocktail glass',\n",
       "   'strInstructions': 'Pour ingredients into shaker filled with ice, shake vigorously, and strain into chilled martini glass',\n",
       "   'strInstructionsES': None,\n",
       "   'strInstructionsDE': 'Zutaten in einen mit Eis gefüllten Shaker geben, kräftig schütteln und in ein gekühltes Martini-Glas abseihen.',\n",
       "   'strInstructionsFR': None,\n",
       "   'strInstructionsIT': 'Versare gli ingredienti in uno shaker pieno di ghiaccio, shakerare energicamente e filtrare in un bicchiere da martini freddo',\n",
       "   'strInstructionsZH-HANS': None,\n",
       "   'strInstructionsZH-HANT': None,\n",
       "   'strDrinkThumb': 'https://www.thecocktaildb.com/images/media/drink/n0sx531504372951.jpg',\n",
       "   'strIngredient1': 'Vodka',\n",
       "   'strIngredient2': 'Kahlua',\n",
       "   'strIngredient3': 'Sugar syrup',\n",
       "   'strIngredient4': None,\n",
       "   'strIngredient5': None,\n",
       "   'strIngredient6': None,\n",
       "   'strIngredient7': None,\n",
       "   'strIngredient8': None,\n",
       "   'strIngredient9': None,\n",
       "   'strIngredient10': None,\n",
       "   'strIngredient11': None,\n",
       "   'strIngredient12': None,\n",
       "   'strIngredient13': None,\n",
       "   'strIngredient14': None,\n",
       "   'strIngredient15': None,\n",
       "   'strMeasure1': '5 cl',\n",
       "   'strMeasure2': '1 cl',\n",
       "   'strMeasure3': '1 dash',\n",
       "   'strMeasure4': None,\n",
       "   'strMeasure5': None,\n",
       "   'strMeasure6': None,\n",
       "   'strMeasure7': None,\n",
       "   'strMeasure8': None,\n",
       "   'strMeasure9': None,\n",
       "   'strMeasure10': None,\n",
       "   'strMeasure11': None,\n",
       "   'strMeasure12': None,\n",
       "   'strMeasure13': None,\n",
       "   'strMeasure14': None,\n",
       "   'strMeasure15': None,\n",
       "   'strImageSource': None,\n",
       "   'strImageAttribution': None,\n",
       "   'strCreativeCommonsConfirmed': 'No',\n",
       "   'dateModified': '2017-09-02 18:22:31'}]}"
      ]
     },
     "execution_count": 4,
     "metadata": {},
     "output_type": "execute_result"
    }
   ],
   "source": [
    "# The information returned is stored in the form of a list of Json \n",
    "# data structures.\n",
    "payload.json()"
   ]
  },
  {
   "cell_type": "code",
   "execution_count": 5,
   "id": "76acde22",
   "metadata": {},
   "outputs": [
    {
     "data": {
      "text/plain": [
       "<Response [200]>"
      ]
     },
     "execution_count": 5,
     "metadata": {},
     "output_type": "execute_result"
    }
   ],
   "source": [
    "payload = requests.get(url)\n",
    "data = []\n",
    "dfd = pd.DataFrame(data)\n",
    "payload\n",
    "# We see a 200 code response which indicates a succesfull retrieve of the data."
   ]
  },
  {
   "cell_type": "code",
   "execution_count": 6,
   "id": "973c31a2",
   "metadata": {},
   "outputs": [],
   "source": [
    "# We take the first 10 drinks and for that we slice the drinks list of \n",
    "# elements to take the first element in position [0], after that we \n",
    "# recover specifically IdDrink, strDrink, strAlcoholic, strGlass\n",
    "# from the JSONS to create columns in a dataframe format\n",
    "data = []\n",
    "dfd = pd.DataFrame(data)\n",
    "for i in range(1,11):\n",
    "    payload.json()\n",
    "    id_ = payload.json()['drinks'][0]['idDrink']\n",
    "    name = payload.json()['drinks'][0]['strDrink']\n",
    "    alc = payload.json()['drinks'][0]['strAlcoholic']\n",
    "    cup = payload.json()['drinks'][0]['strGlass']\n",
    "    data = [id_,name,alc,cup]"
   ]
  },
  {
   "cell_type": "code",
   "execution_count": 7,
   "id": "bde177da",
   "metadata": {
    "scrolled": true
   },
   "outputs": [
    {
     "data": {
      "text/plain": [
       "['17254', 'Bijou', 'Alcoholic', 'Cocktail glass']"
      ]
     },
     "execution_count": 7,
     "metadata": {},
     "output_type": "execute_result"
    }
   ],
   "source": [
    "data"
   ]
  },
  {
   "cell_type": "code",
   "execution_count": 8,
   "id": "c660d7ec",
   "metadata": {},
   "outputs": [],
   "source": [
    "data=[]\n",
    "i=0\n",
    "while  i<10:\n",
    "    \n",
    "    url = \"https://www.thecocktaildb.com/api/json/v1/1/random.php\"\n",
    "    payload = requests.get(url).json()\n",
    "    template = {\n",
    "        \"id\": payload['drinks'][0]['idDrink'],\n",
    "        \"name\": payload['drinks'][0]['strDrink'],\n",
    "        \"alcoholic\": payload['drinks'][0]['strAlcoholic'],\n",
    "        \"glass\":payload['drinks'][0]['strGlass'],\n",
    "        \n",
    "        }\n",
    "    data.append(template)\n",
    "    i+=1\n",
    "    "
   ]
  },
  {
   "cell_type": "code",
   "execution_count": 9,
   "id": "db39c673",
   "metadata": {
    "scrolled": false
   },
   "outputs": [
    {
     "data": {
      "text/plain": [
       "[{'id': '12792',\n",
       "  'name': 'Amaretto Liqueur',\n",
       "  'alcoholic': 'Alcoholic',\n",
       "  'glass': 'Collins Glass'},\n",
       " {'id': '11006',\n",
       "  'name': 'Daiquiri',\n",
       "  'alcoholic': 'Alcoholic',\n",
       "  'glass': 'Cocktail glass'},\n",
       " {'id': '13675',\n",
       "  'name': \"Flander's Flake-Out\",\n",
       "  'alcoholic': 'Alcoholic',\n",
       "  'glass': 'Collins Glass'},\n",
       " {'id': '11985',\n",
       "  'name': 'Quarter Deck Cocktail',\n",
       "  'alcoholic': 'Alcoholic',\n",
       "  'glass': 'Cocktail glass'},\n",
       " {'id': '11338',\n",
       "  'name': 'English Highball',\n",
       "  'alcoholic': 'Alcoholic',\n",
       "  'glass': 'Highball glass'},\n",
       " {'id': '11003',\n",
       "  'name': 'Negroni',\n",
       "  'alcoholic': 'Alcoholic',\n",
       "  'glass': 'Old-fashioned glass'},\n",
       " {'id': '11054',\n",
       "  'name': 'Arthur Tompkins',\n",
       "  'alcoholic': 'Alcoholic',\n",
       "  'glass': 'Whiskey sour glass'},\n",
       " {'id': '16100',\n",
       "  'name': 'Amaretto Stone Sour Alternative',\n",
       "  'alcoholic': 'Alcoholic',\n",
       "  'glass': 'Highball glass'},\n",
       " {'id': '11542',\n",
       "  'name': 'Jack Rose Cocktail',\n",
       "  'alcoholic': 'Alcoholic',\n",
       "  'glass': 'Cocktail glass'},\n",
       " {'id': '16995',\n",
       "  'name': 'Orange Whip',\n",
       "  'alcoholic': 'Alcoholic',\n",
       "  'glass': 'Collins Glass'}]"
      ]
     },
     "execution_count": 9,
     "metadata": {},
     "output_type": "execute_result"
    }
   ],
   "source": [
    "data"
   ]
  },
  {
   "cell_type": "code",
   "execution_count": 10,
   "id": "aa685a29",
   "metadata": {},
   "outputs": [],
   "source": [
    "dfd = pd.DataFrame(data, columns = data[0].keys())"
   ]
  },
  {
   "cell_type": "code",
   "execution_count": 11,
   "id": "1b2bf7fa",
   "metadata": {
    "scrolled": true
   },
   "outputs": [
    {
     "data": {
      "text/plain": [
       "{'id': '12792',\n",
       " 'name': 'Amaretto Liqueur',\n",
       " 'alcoholic': 'Alcoholic',\n",
       " 'glass': 'Collins Glass'}"
      ]
     },
     "execution_count": 11,
     "metadata": {},
     "output_type": "execute_result"
    }
   ],
   "source": [
    "data[0]"
   ]
  },
  {
   "cell_type": "code",
   "execution_count": 12,
   "id": "bf31b31f",
   "metadata": {
    "scrolled": true
   },
   "outputs": [
    {
     "data": {
      "text/html": [
       "<div>\n",
       "<style scoped>\n",
       "    .dataframe tbody tr th:only-of-type {\n",
       "        vertical-align: middle;\n",
       "    }\n",
       "\n",
       "    .dataframe tbody tr th {\n",
       "        vertical-align: top;\n",
       "    }\n",
       "\n",
       "    .dataframe thead th {\n",
       "        text-align: right;\n",
       "    }\n",
       "</style>\n",
       "<table border=\"1\" class=\"dataframe\">\n",
       "  <thead>\n",
       "    <tr style=\"text-align: right;\">\n",
       "      <th></th>\n",
       "      <th>id</th>\n",
       "      <th>name</th>\n",
       "      <th>alcoholic</th>\n",
       "      <th>glass</th>\n",
       "    </tr>\n",
       "  </thead>\n",
       "  <tbody>\n",
       "    <tr>\n",
       "      <th>0</th>\n",
       "      <td>12792</td>\n",
       "      <td>Amaretto Liqueur</td>\n",
       "      <td>Alcoholic</td>\n",
       "      <td>Collins Glass</td>\n",
       "    </tr>\n",
       "    <tr>\n",
       "      <th>1</th>\n",
       "      <td>11006</td>\n",
       "      <td>Daiquiri</td>\n",
       "      <td>Alcoholic</td>\n",
       "      <td>Cocktail glass</td>\n",
       "    </tr>\n",
       "    <tr>\n",
       "      <th>2</th>\n",
       "      <td>13675</td>\n",
       "      <td>Flander's Flake-Out</td>\n",
       "      <td>Alcoholic</td>\n",
       "      <td>Collins Glass</td>\n",
       "    </tr>\n",
       "    <tr>\n",
       "      <th>3</th>\n",
       "      <td>11985</td>\n",
       "      <td>Quarter Deck Cocktail</td>\n",
       "      <td>Alcoholic</td>\n",
       "      <td>Cocktail glass</td>\n",
       "    </tr>\n",
       "    <tr>\n",
       "      <th>4</th>\n",
       "      <td>11338</td>\n",
       "      <td>English Highball</td>\n",
       "      <td>Alcoholic</td>\n",
       "      <td>Highball glass</td>\n",
       "    </tr>\n",
       "    <tr>\n",
       "      <th>5</th>\n",
       "      <td>11003</td>\n",
       "      <td>Negroni</td>\n",
       "      <td>Alcoholic</td>\n",
       "      <td>Old-fashioned glass</td>\n",
       "    </tr>\n",
       "    <tr>\n",
       "      <th>6</th>\n",
       "      <td>11054</td>\n",
       "      <td>Arthur Tompkins</td>\n",
       "      <td>Alcoholic</td>\n",
       "      <td>Whiskey sour glass</td>\n",
       "    </tr>\n",
       "    <tr>\n",
       "      <th>7</th>\n",
       "      <td>16100</td>\n",
       "      <td>Amaretto Stone Sour Alternative</td>\n",
       "      <td>Alcoholic</td>\n",
       "      <td>Highball glass</td>\n",
       "    </tr>\n",
       "    <tr>\n",
       "      <th>8</th>\n",
       "      <td>11542</td>\n",
       "      <td>Jack Rose Cocktail</td>\n",
       "      <td>Alcoholic</td>\n",
       "      <td>Cocktail glass</td>\n",
       "    </tr>\n",
       "    <tr>\n",
       "      <th>9</th>\n",
       "      <td>16995</td>\n",
       "      <td>Orange Whip</td>\n",
       "      <td>Alcoholic</td>\n",
       "      <td>Collins Glass</td>\n",
       "    </tr>\n",
       "  </tbody>\n",
       "</table>\n",
       "</div>"
      ],
      "text/plain": [
       "      id                             name  alcoholic                glass\n",
       "0  12792                 Amaretto Liqueur  Alcoholic        Collins Glass\n",
       "1  11006                         Daiquiri  Alcoholic       Cocktail glass\n",
       "2  13675              Flander's Flake-Out  Alcoholic        Collins Glass\n",
       "3  11985            Quarter Deck Cocktail  Alcoholic       Cocktail glass\n",
       "4  11338                 English Highball  Alcoholic       Highball glass\n",
       "5  11003                          Negroni  Alcoholic  Old-fashioned glass\n",
       "6  11054                  Arthur Tompkins  Alcoholic   Whiskey sour glass\n",
       "7  16100  Amaretto Stone Sour Alternative  Alcoholic       Highball glass\n",
       "8  11542               Jack Rose Cocktail  Alcoholic       Cocktail glass\n",
       "9  16995                      Orange Whip  Alcoholic        Collins Glass"
      ]
     },
     "execution_count": 12,
     "metadata": {},
     "output_type": "execute_result"
    }
   ],
   "source": [
    "# As a result of previous operation we are left with a pretty Pandas \n",
    "# Dataframe that could later be used to push on to a Cloud SQL Instance\n",
    "dfd"
   ]
  },
  {
   "cell_type": "code",
   "execution_count": 13,
   "id": "a112ec82",
   "metadata": {},
   "outputs": [],
   "source": [
    "# Here is another example on a website with information on airplanes\n",
    "token = \"ZF7xNEuLAZ5DKLQAEGVUq6VquGLQdsL7\"\n",
    "url = \"https://api.onairnet.xyz/imf/aircraft/auth/last-5-country\""
   ]
  },
  {
   "cell_type": "code",
   "execution_count": 14,
   "id": "a2fed100",
   "metadata": {},
   "outputs": [],
   "source": [
    "req_data= {\"country\":\"CO\"}\n",
    "header = {\"oanToken\":token}\n",
    "payload = requests.post(url, data = req_data,headers=header)"
   ]
  },
  {
   "cell_type": "code",
   "execution_count": 15,
   "id": "aae9e7da",
   "metadata": {},
   "outputs": [
    {
     "data": {
      "text/plain": [
       "<Response [200]>"
      ]
     },
     "execution_count": 15,
     "metadata": {},
     "output_type": "execute_result"
    }
   ],
   "source": [
    "payload"
   ]
  },
  {
   "cell_type": "code",
   "execution_count": 16,
   "id": "a0ca70dc",
   "metadata": {},
   "outputs": [
    {
     "data": {
      "text/plain": [
       "[{'id': 'HK-5388_10693',\n",
       "  'plate': 'HK-5388',\n",
       "  'model': 'A20N',\n",
       "  'model_name': 'Airbus A320-251N',\n",
       "  'country': 'CO',\n",
       "  'built': '2022-03-01T00:00:00.000Z',\n",
       "  'serial': '10693'},\n",
       " {'id': 'HK-5390_10691',\n",
       "  'plate': 'HK-5390',\n",
       "  'model': 'A20N',\n",
       "  'model_name': 'Airbus A320-251N',\n",
       "  'country': 'CO',\n",
       "  'built': '2022-01-01T00:00:00.000Z',\n",
       "  'serial': '10691'},\n",
       " {'id': 'HK-5389_10677',\n",
       "  'plate': 'HK-5389',\n",
       "  'model': 'A20N',\n",
       "  'model_name': 'Airbus A320-251N',\n",
       "  'country': 'CO',\n",
       "  'built': '2021-11-01T00:00:00.000Z',\n",
       "  'serial': '10677'},\n",
       " {'id': 'HK-5378_10570',\n",
       "  'plate': 'HK-5378',\n",
       "  'model': 'A20N',\n",
       "  'model_name': 'Airbus A320-251N',\n",
       "  'country': 'CO',\n",
       "  'built': '2021-09-01T00:00:00.000Z',\n",
       "  'serial': '10570'},\n",
       " {'id': 'HK-5367_10487',\n",
       "  'plate': 'HK-5367',\n",
       "  'model': 'A20N',\n",
       "  'model_name': 'Airbus A320-251N',\n",
       "  'country': 'CO',\n",
       "  'built': '2021-05-01T00:00:00.000Z',\n",
       "  'serial': '10487'}]"
      ]
     },
     "execution_count": 16,
     "metadata": {},
     "output_type": "execute_result"
    }
   ],
   "source": [
    "payload.json()['response']"
   ]
  },
  {
   "cell_type": "code",
   "execution_count": 18,
   "id": "67483649",
   "metadata": {},
   "outputs": [],
   "source": [
    "#last 5 planes made in Colombia and Austria\n",
    "dataco = []\n",
    "for i in payload.json()['response']:\n",
    "    dataco.append(i)"
   ]
  },
  {
   "cell_type": "code",
   "execution_count": 19,
   "id": "82c9822b",
   "metadata": {},
   "outputs": [],
   "source": [
    "dfco = pd.DataFrame(dataco, columns = dataco[0].keys())"
   ]
  },
  {
   "cell_type": "code",
   "execution_count": 20,
   "id": "abbf5a26",
   "metadata": {
    "scrolled": true
   },
   "outputs": [
    {
     "data": {
      "text/html": [
       "<div>\n",
       "<style scoped>\n",
       "    .dataframe tbody tr th:only-of-type {\n",
       "        vertical-align: middle;\n",
       "    }\n",
       "\n",
       "    .dataframe tbody tr th {\n",
       "        vertical-align: top;\n",
       "    }\n",
       "\n",
       "    .dataframe thead th {\n",
       "        text-align: right;\n",
       "    }\n",
       "</style>\n",
       "<table border=\"1\" class=\"dataframe\">\n",
       "  <thead>\n",
       "    <tr style=\"text-align: right;\">\n",
       "      <th></th>\n",
       "      <th>id</th>\n",
       "      <th>plate</th>\n",
       "      <th>model</th>\n",
       "      <th>model_name</th>\n",
       "      <th>country</th>\n",
       "      <th>built</th>\n",
       "      <th>serial</th>\n",
       "    </tr>\n",
       "  </thead>\n",
       "  <tbody>\n",
       "    <tr>\n",
       "      <th>0</th>\n",
       "      <td>HK-5388_10693</td>\n",
       "      <td>HK-5388</td>\n",
       "      <td>A20N</td>\n",
       "      <td>Airbus A320-251N</td>\n",
       "      <td>CO</td>\n",
       "      <td>2022-03-01T00:00:00.000Z</td>\n",
       "      <td>10693</td>\n",
       "    </tr>\n",
       "    <tr>\n",
       "      <th>1</th>\n",
       "      <td>HK-5390_10691</td>\n",
       "      <td>HK-5390</td>\n",
       "      <td>A20N</td>\n",
       "      <td>Airbus A320-251N</td>\n",
       "      <td>CO</td>\n",
       "      <td>2022-01-01T00:00:00.000Z</td>\n",
       "      <td>10691</td>\n",
       "    </tr>\n",
       "    <tr>\n",
       "      <th>2</th>\n",
       "      <td>HK-5389_10677</td>\n",
       "      <td>HK-5389</td>\n",
       "      <td>A20N</td>\n",
       "      <td>Airbus A320-251N</td>\n",
       "      <td>CO</td>\n",
       "      <td>2021-11-01T00:00:00.000Z</td>\n",
       "      <td>10677</td>\n",
       "    </tr>\n",
       "    <tr>\n",
       "      <th>3</th>\n",
       "      <td>HK-5378_10570</td>\n",
       "      <td>HK-5378</td>\n",
       "      <td>A20N</td>\n",
       "      <td>Airbus A320-251N</td>\n",
       "      <td>CO</td>\n",
       "      <td>2021-09-01T00:00:00.000Z</td>\n",
       "      <td>10570</td>\n",
       "    </tr>\n",
       "    <tr>\n",
       "      <th>4</th>\n",
       "      <td>HK-5367_10487</td>\n",
       "      <td>HK-5367</td>\n",
       "      <td>A20N</td>\n",
       "      <td>Airbus A320-251N</td>\n",
       "      <td>CO</td>\n",
       "      <td>2021-05-01T00:00:00.000Z</td>\n",
       "      <td>10487</td>\n",
       "    </tr>\n",
       "  </tbody>\n",
       "</table>\n",
       "</div>"
      ],
      "text/plain": [
       "              id    plate model        model_name country  \\\n",
       "0  HK-5388_10693  HK-5388  A20N  Airbus A320-251N      CO   \n",
       "1  HK-5390_10691  HK-5390  A20N  Airbus A320-251N      CO   \n",
       "2  HK-5389_10677  HK-5389  A20N  Airbus A320-251N      CO   \n",
       "3  HK-5378_10570  HK-5378  A20N  Airbus A320-251N      CO   \n",
       "4  HK-5367_10487  HK-5367  A20N  Airbus A320-251N      CO   \n",
       "\n",
       "                      built serial  \n",
       "0  2022-03-01T00:00:00.000Z  10693  \n",
       "1  2022-01-01T00:00:00.000Z  10691  \n",
       "2  2021-11-01T00:00:00.000Z  10677  \n",
       "3  2021-09-01T00:00:00.000Z  10570  \n",
       "4  2021-05-01T00:00:00.000Z  10487  "
      ]
     },
     "execution_count": 20,
     "metadata": {},
     "output_type": "execute_result"
    }
   ],
   "source": [
    "dfco"
   ]
  },
  {
   "cell_type": "code",
   "execution_count": 21,
   "id": "38cd30ce",
   "metadata": {},
   "outputs": [],
   "source": [
    "# Requesting airplane data filtering on Country: AT\n",
    "req_data= {\"country\":\"AT\"}\n",
    "header = {\"oanToken\":token}\n",
    "payload = requests.post(url, data = req_data,headers=header)"
   ]
  },
  {
   "cell_type": "code",
   "execution_count": 22,
   "id": "2e8134e3",
   "metadata": {},
   "outputs": [
    {
     "data": {
      "text/plain": [
       "[{'id': 'OE-LSM_10142',\n",
       "  'plate': 'OE-LSM',\n",
       "  'model': 'A20N',\n",
       "  'model_name': 'Airbus A320-251N',\n",
       "  'country': 'AT',\n",
       "  'built': '2022-07-01T00:00:00.000Z',\n",
       "  'serial': '10142'},\n",
       " {'id': 'OE-ISG_10048',\n",
       "  'plate': 'OE-ISG',\n",
       "  'model': 'A21N',\n",
       "  'model_name': 'Airbus A321-251NX',\n",
       "  'country': 'AT',\n",
       "  'built': '2022-01-01T00:00:00.000Z',\n",
       "  'serial': '10048'},\n",
       " {'id': 'OE-GPP_560-6326',\n",
       "  'plate': 'OE-GPP',\n",
       "  'model': 'C56X',\n",
       "  'model_name': 'Cessna 560XLS Citation Excel+',\n",
       "  'country': 'AT',\n",
       "  'built': '2022-01-01T00:00:00.000Z',\n",
       "  'serial': '560-6326'},\n",
       " {'id': 'OE-EPG_2073',\n",
       "  'plate': 'OE-EPG',\n",
       "  'model': 'PC12',\n",
       "  'model_name': 'Pilatus PC-12 NGX',\n",
       "  'country': 'AT',\n",
       "  'built': '2021-01-01T00:00:00.000Z',\n",
       "  'serial': '2073'},\n",
       " {'id': 'OE-ISE_09399',\n",
       "  'plate': 'OE-ISE',\n",
       "  'model': 'A21N',\n",
       "  'model_name': 'Airbus A321-251NX',\n",
       "  'country': 'AT',\n",
       "  'built': '2020-04-01T00:00:00.000Z',\n",
       "  'serial': '09399'}]"
      ]
     },
     "execution_count": 22,
     "metadata": {},
     "output_type": "execute_result"
    }
   ],
   "source": [
    "payload.json()['response']"
   ]
  },
  {
   "cell_type": "code",
   "execution_count": 23,
   "id": "46a05ed3",
   "metadata": {},
   "outputs": [],
   "source": [
    "dataat = []\n",
    "for i in payload.json()['response']:\n",
    "    dataat.append(i)"
   ]
  },
  {
   "cell_type": "code",
   "execution_count": 24,
   "id": "76910c55",
   "metadata": {},
   "outputs": [],
   "source": [
    "dfat = pd.DataFrame(dataat, columns = dataat[0].keys())"
   ]
  },
  {
   "cell_type": "code",
   "execution_count": 25,
   "id": "1abbb95e",
   "metadata": {},
   "outputs": [
    {
     "data": {
      "text/html": [
       "<div>\n",
       "<style scoped>\n",
       "    .dataframe tbody tr th:only-of-type {\n",
       "        vertical-align: middle;\n",
       "    }\n",
       "\n",
       "    .dataframe tbody tr th {\n",
       "        vertical-align: top;\n",
       "    }\n",
       "\n",
       "    .dataframe thead th {\n",
       "        text-align: right;\n",
       "    }\n",
       "</style>\n",
       "<table border=\"1\" class=\"dataframe\">\n",
       "  <thead>\n",
       "    <tr style=\"text-align: right;\">\n",
       "      <th></th>\n",
       "      <th>id</th>\n",
       "      <th>plate</th>\n",
       "      <th>model</th>\n",
       "      <th>model_name</th>\n",
       "      <th>country</th>\n",
       "      <th>built</th>\n",
       "      <th>serial</th>\n",
       "    </tr>\n",
       "  </thead>\n",
       "  <tbody>\n",
       "    <tr>\n",
       "      <th>0</th>\n",
       "      <td>OE-LSM_10142</td>\n",
       "      <td>OE-LSM</td>\n",
       "      <td>A20N</td>\n",
       "      <td>Airbus A320-251N</td>\n",
       "      <td>AT</td>\n",
       "      <td>2022-07-01T00:00:00.000Z</td>\n",
       "      <td>10142</td>\n",
       "    </tr>\n",
       "    <tr>\n",
       "      <th>1</th>\n",
       "      <td>OE-ISG_10048</td>\n",
       "      <td>OE-ISG</td>\n",
       "      <td>A21N</td>\n",
       "      <td>Airbus A321-251NX</td>\n",
       "      <td>AT</td>\n",
       "      <td>2022-01-01T00:00:00.000Z</td>\n",
       "      <td>10048</td>\n",
       "    </tr>\n",
       "    <tr>\n",
       "      <th>2</th>\n",
       "      <td>OE-GPP_560-6326</td>\n",
       "      <td>OE-GPP</td>\n",
       "      <td>C56X</td>\n",
       "      <td>Cessna 560XLS Citation Excel+</td>\n",
       "      <td>AT</td>\n",
       "      <td>2022-01-01T00:00:00.000Z</td>\n",
       "      <td>560-6326</td>\n",
       "    </tr>\n",
       "    <tr>\n",
       "      <th>3</th>\n",
       "      <td>OE-EPG_2073</td>\n",
       "      <td>OE-EPG</td>\n",
       "      <td>PC12</td>\n",
       "      <td>Pilatus PC-12 NGX</td>\n",
       "      <td>AT</td>\n",
       "      <td>2021-01-01T00:00:00.000Z</td>\n",
       "      <td>2073</td>\n",
       "    </tr>\n",
       "    <tr>\n",
       "      <th>4</th>\n",
       "      <td>OE-ISE_09399</td>\n",
       "      <td>OE-ISE</td>\n",
       "      <td>A21N</td>\n",
       "      <td>Airbus A321-251NX</td>\n",
       "      <td>AT</td>\n",
       "      <td>2020-04-01T00:00:00.000Z</td>\n",
       "      <td>09399</td>\n",
       "    </tr>\n",
       "  </tbody>\n",
       "</table>\n",
       "</div>"
      ],
      "text/plain": [
       "                id   plate model                     model_name country  \\\n",
       "0     OE-LSM_10142  OE-LSM  A20N               Airbus A320-251N      AT   \n",
       "1     OE-ISG_10048  OE-ISG  A21N              Airbus A321-251NX      AT   \n",
       "2  OE-GPP_560-6326  OE-GPP  C56X  Cessna 560XLS Citation Excel+      AT   \n",
       "3      OE-EPG_2073  OE-EPG  PC12              Pilatus PC-12 NGX      AT   \n",
       "4     OE-ISE_09399  OE-ISE  A21N              Airbus A321-251NX      AT   \n",
       "\n",
       "                      built    serial  \n",
       "0  2022-07-01T00:00:00.000Z     10142  \n",
       "1  2022-01-01T00:00:00.000Z     10048  \n",
       "2  2022-01-01T00:00:00.000Z  560-6326  \n",
       "3  2021-01-01T00:00:00.000Z      2073  \n",
       "4  2020-04-01T00:00:00.000Z     09399  "
      ]
     },
     "execution_count": 25,
     "metadata": {},
     "output_type": "execute_result"
    }
   ],
   "source": [
    "dfat"
   ]
  },
  {
   "cell_type": "code",
   "execution_count": 26,
   "id": "0569cf22",
   "metadata": {},
   "outputs": [
    {
     "data": {
      "text/html": [
       "<div>\n",
       "<style scoped>\n",
       "    .dataframe tbody tr th:only-of-type {\n",
       "        vertical-align: middle;\n",
       "    }\n",
       "\n",
       "    .dataframe tbody tr th {\n",
       "        vertical-align: top;\n",
       "    }\n",
       "\n",
       "    .dataframe thead th {\n",
       "        text-align: right;\n",
       "    }\n",
       "</style>\n",
       "<table border=\"1\" class=\"dataframe\">\n",
       "  <thead>\n",
       "    <tr style=\"text-align: right;\">\n",
       "      <th></th>\n",
       "      <th>id</th>\n",
       "      <th>plate</th>\n",
       "      <th>model</th>\n",
       "      <th>model_name</th>\n",
       "      <th>country</th>\n",
       "      <th>built</th>\n",
       "      <th>serial</th>\n",
       "    </tr>\n",
       "  </thead>\n",
       "  <tbody>\n",
       "    <tr>\n",
       "      <th>0</th>\n",
       "      <td>OE-LSM_10142</td>\n",
       "      <td>OE-LSM</td>\n",
       "      <td>A20N</td>\n",
       "      <td>Airbus A320-251N</td>\n",
       "      <td>AT</td>\n",
       "      <td>2022-07-01T00:00:00.000Z</td>\n",
       "      <td>10142</td>\n",
       "    </tr>\n",
       "    <tr>\n",
       "      <th>1</th>\n",
       "      <td>OE-ISG_10048</td>\n",
       "      <td>OE-ISG</td>\n",
       "      <td>A21N</td>\n",
       "      <td>Airbus A321-251NX</td>\n",
       "      <td>AT</td>\n",
       "      <td>2022-01-01T00:00:00.000Z</td>\n",
       "      <td>10048</td>\n",
       "    </tr>\n",
       "    <tr>\n",
       "      <th>2</th>\n",
       "      <td>OE-GPP_560-6326</td>\n",
       "      <td>OE-GPP</td>\n",
       "      <td>C56X</td>\n",
       "      <td>Cessna 560XLS Citation Excel+</td>\n",
       "      <td>AT</td>\n",
       "      <td>2022-01-01T00:00:00.000Z</td>\n",
       "      <td>560-6326</td>\n",
       "    </tr>\n",
       "    <tr>\n",
       "      <th>3</th>\n",
       "      <td>OE-EPG_2073</td>\n",
       "      <td>OE-EPG</td>\n",
       "      <td>PC12</td>\n",
       "      <td>Pilatus PC-12 NGX</td>\n",
       "      <td>AT</td>\n",
       "      <td>2021-01-01T00:00:00.000Z</td>\n",
       "      <td>2073</td>\n",
       "    </tr>\n",
       "    <tr>\n",
       "      <th>4</th>\n",
       "      <td>OE-ISE_09399</td>\n",
       "      <td>OE-ISE</td>\n",
       "      <td>A21N</td>\n",
       "      <td>Airbus A321-251NX</td>\n",
       "      <td>AT</td>\n",
       "      <td>2020-04-01T00:00:00.000Z</td>\n",
       "      <td>09399</td>\n",
       "    </tr>\n",
       "    <tr>\n",
       "      <th>0</th>\n",
       "      <td>HK-5388_10693</td>\n",
       "      <td>HK-5388</td>\n",
       "      <td>A20N</td>\n",
       "      <td>Airbus A320-251N</td>\n",
       "      <td>CO</td>\n",
       "      <td>2022-03-01T00:00:00.000Z</td>\n",
       "      <td>10693</td>\n",
       "    </tr>\n",
       "    <tr>\n",
       "      <th>1</th>\n",
       "      <td>HK-5390_10691</td>\n",
       "      <td>HK-5390</td>\n",
       "      <td>A20N</td>\n",
       "      <td>Airbus A320-251N</td>\n",
       "      <td>CO</td>\n",
       "      <td>2022-01-01T00:00:00.000Z</td>\n",
       "      <td>10691</td>\n",
       "    </tr>\n",
       "    <tr>\n",
       "      <th>2</th>\n",
       "      <td>HK-5389_10677</td>\n",
       "      <td>HK-5389</td>\n",
       "      <td>A20N</td>\n",
       "      <td>Airbus A320-251N</td>\n",
       "      <td>CO</td>\n",
       "      <td>2021-11-01T00:00:00.000Z</td>\n",
       "      <td>10677</td>\n",
       "    </tr>\n",
       "    <tr>\n",
       "      <th>3</th>\n",
       "      <td>HK-5378_10570</td>\n",
       "      <td>HK-5378</td>\n",
       "      <td>A20N</td>\n",
       "      <td>Airbus A320-251N</td>\n",
       "      <td>CO</td>\n",
       "      <td>2021-09-01T00:00:00.000Z</td>\n",
       "      <td>10570</td>\n",
       "    </tr>\n",
       "    <tr>\n",
       "      <th>4</th>\n",
       "      <td>HK-5367_10487</td>\n",
       "      <td>HK-5367</td>\n",
       "      <td>A20N</td>\n",
       "      <td>Airbus A320-251N</td>\n",
       "      <td>CO</td>\n",
       "      <td>2021-05-01T00:00:00.000Z</td>\n",
       "      <td>10487</td>\n",
       "    </tr>\n",
       "  </tbody>\n",
       "</table>\n",
       "</div>"
      ],
      "text/plain": [
       "                id    plate model                     model_name country  \\\n",
       "0     OE-LSM_10142   OE-LSM  A20N               Airbus A320-251N      AT   \n",
       "1     OE-ISG_10048   OE-ISG  A21N              Airbus A321-251NX      AT   \n",
       "2  OE-GPP_560-6326   OE-GPP  C56X  Cessna 560XLS Citation Excel+      AT   \n",
       "3      OE-EPG_2073   OE-EPG  PC12              Pilatus PC-12 NGX      AT   \n",
       "4     OE-ISE_09399   OE-ISE  A21N              Airbus A321-251NX      AT   \n",
       "0    HK-5388_10693  HK-5388  A20N               Airbus A320-251N      CO   \n",
       "1    HK-5390_10691  HK-5390  A20N               Airbus A320-251N      CO   \n",
       "2    HK-5389_10677  HK-5389  A20N               Airbus A320-251N      CO   \n",
       "3    HK-5378_10570  HK-5378  A20N               Airbus A320-251N      CO   \n",
       "4    HK-5367_10487  HK-5367  A20N               Airbus A320-251N      CO   \n",
       "\n",
       "                      built    serial  \n",
       "0  2022-07-01T00:00:00.000Z     10142  \n",
       "1  2022-01-01T00:00:00.000Z     10048  \n",
       "2  2022-01-01T00:00:00.000Z  560-6326  \n",
       "3  2021-01-01T00:00:00.000Z      2073  \n",
       "4  2020-04-01T00:00:00.000Z     09399  \n",
       "0  2022-03-01T00:00:00.000Z     10693  \n",
       "1  2022-01-01T00:00:00.000Z     10691  \n",
       "2  2021-11-01T00:00:00.000Z     10677  \n",
       "3  2021-09-01T00:00:00.000Z     10570  \n",
       "4  2021-05-01T00:00:00.000Z     10487  "
      ]
     },
     "execution_count": 26,
     "metadata": {},
     "output_type": "execute_result"
    }
   ],
   "source": [
    "# Contatenating both Dataframes into a single one,\n",
    "# now we can explore the data and work comfortably on it if we wanted to.\n",
    "dfcomp = pd.concat([dfat, dfco], axis=0)\n",
    "dfcomp"
   ]
  }
 ],
 "metadata": {
  "kernelspec": {
   "display_name": "Python 3 (ipykernel)",
   "language": "python",
   "name": "python3"
  },
  "language_info": {
   "codemirror_mode": {
    "name": "ipython",
    "version": 3
   },
   "file_extension": ".py",
   "mimetype": "text/x-python",
   "name": "python",
   "nbconvert_exporter": "python",
   "pygments_lexer": "ipython3",
   "version": "3.10.8"
  }
 },
 "nbformat": 4,
 "nbformat_minor": 5
}
